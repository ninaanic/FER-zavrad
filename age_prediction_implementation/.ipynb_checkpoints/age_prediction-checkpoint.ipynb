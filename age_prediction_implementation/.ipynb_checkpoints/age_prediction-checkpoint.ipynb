{
 "cells": [
  {
   "cell_type": "code",
   "execution_count": 6,
   "id": "2ea8055a",
   "metadata": {},
   "outputs": [],
   "source": [
    "# step 0: imports\n",
    "\n",
    "import numpy as np              # za operacije nad arrayevima\n",
    "import matplotlib.pyplot as plt # za prikaz slika\n",
    "from matplotlib.patches import Rectangle\n",
    "import os                       # za iteriranje po direktorijima\n",
    "import cv2                      # za operacije nad slikama \n",
    "from PIL import Image\n",
    "from collections import Counter\n",
    "from mtcnn.mtcnn import MTCNN\n",
    "import time\n",
    "import shutil\n",
    "import pandas as pd\n",
    "from pathlib import Path\n",
    "from sklearn.model_selection import train_test_split\n",
    "import tensorflow as tf\n",
    "from sklearn.metrics import r2_score\n",
    "\n",
    "from keras.models import Model\n",
    "from keras.layers import Flatten\n",
    "from keras.layers import Dense\n",
    "from keras.layers import Input\n",
    "from keras.layers import Conv2D\n",
    "from keras.layers import SeparableConv2D\n",
    "from keras.layers import MaxPool2D\n",
    "from keras.layers import GlobalAveragePooling2D\n",
    "from keras.layers import LayerNormalization\n",
    "from keras.layers import Dropout\n",
    "from keras.models import Sequential\n"
   ]
  },
  {
   "cell_type": "code",
   "execution_count": null,
   "id": "9fca620b",
   "metadata": {},
   "outputs": [],
   "source": [
    "# step 1.1: ucitaj wiki_no_categories dir (DATADIR)\n",
    "\n",
    "    # bit ce odradeno dolje "
   ]
  },
  {
   "cell_type": "code",
   "execution_count": null,
   "id": "33f47152",
   "metadata": {},
   "outputs": [],
   "source": [
    "# step 1.2: brisanje plain crnih slika \n",
    "\n",
    "    # odradeno za wiki set "
   ]
  },
  {
   "cell_type": "code",
   "execution_count": null,
   "id": "563012a7",
   "metadata": {},
   "outputs": [],
   "source": [
    "# step 2.1: ucitavanje slika u polje (img_array_rgb) i prikaz da vidimo kako izgledaju \n",
    "# step 2.2: implemetacija algoritma 2 za trazenje i oznacavanje lica na slikama (slike nisu resizane na istu velicinu)\n",
    "# step 2.3: brisanje slika na kojima lice nije prepoznato\n",
    "# step 2.4: croppanje slike td ostane samo lice i margine okolo\n",
    "\n",
    "    # odradeno za wiki set "
   ]
  },
  {
   "cell_type": "code",
   "execution_count": null,
   "id": "e1509d05",
   "metadata": {},
   "outputs": [],
   "source": [
    "# step 3: podjela dataseta na train, validation i test \n",
    "\n",
    "    # pocet odavde za wiki set - display podataka, ucitavanje u vektor (pomoc 4.2), podjela na ttv "
   ]
  },
  {
   "cell_type": "code",
   "execution_count": 7,
   "id": "7359af98",
   "metadata": {},
   "outputs": [
    {
     "name": "stdout",
     "output_type": "stream",
     "text": [
      "0        /Users/ninaanic/Tehnicke/5_semestar/Projekt_R/...\n",
      "1        /Users/ninaanic/Tehnicke/5_semestar/Projekt_R/...\n",
      "2        /Users/ninaanic/Tehnicke/5_semestar/Projekt_R/...\n",
      "3        /Users/ninaanic/Tehnicke/5_semestar/Projekt_R/...\n",
      "4        /Users/ninaanic/Tehnicke/5_semestar/Projekt_R/...\n",
      "                               ...                        \n",
      "36219    /Users/ninaanic/Tehnicke/5_semestar/Projekt_R/...\n",
      "36220    /Users/ninaanic/Tehnicke/5_semestar/Projekt_R/...\n",
      "36221    /Users/ninaanic/Tehnicke/5_semestar/Projekt_R/...\n",
      "36222    /Users/ninaanic/Tehnicke/5_semestar/Projekt_R/...\n",
      "36223    /Users/ninaanic/Tehnicke/5_semestar/Projekt_R/...\n",
      "Name: Filepath, Length: 36224, dtype: object\n"
     ]
    }
   ],
   "source": [
    "# step 4: treniranje modela --> 1. poboljšani model u odnosu na ProR\n",
    "# step 4.1: ucitavanje slika \n",
    "\n",
    "# putanja do foldera 'wiki_no_categories' u kojem se nalaze slike \n",
    "image_dir = Path('/Users/ninaanic/Tehnicke/5_semestar/Projekt_R/age_prediction/wiki_no_categories')\n",
    "filepaths = pd.Series(list(image_dir.glob(r'*.jpg')), name = 'Filepath').astype(str)\n",
    "print(filepaths)"
   ]
  },
  {
   "cell_type": "code",
   "execution_count": 3,
   "id": "a82befe7",
   "metadata": {},
   "outputs": [],
   "source": [
    "# za step 4.2 koristiti ili 4.2.1 ili 4.2.2\n",
    "# 4.2.1 stvstava slike u kategorije a 4.2.1 ne "
   ]
  },
  {
   "cell_type": "code",
   "execution_count": 84,
   "id": "5dae60fd",
   "metadata": {},
   "outputs": [
    {
     "name": "stdout",
     "output_type": "stream",
     "text": [
      "{'0-9': 0, '10-19': 1, '20-29': 2, '30-39': 3, '40-49': 4, '50-59': 5, '60-69': 6, '70-79': 7, '80-89': 8, '90-99': 9, '100-109': 10, '110-119': 11}\n",
      "                                                Filepath  Age category\n",
      "0      /Users/ninaanic/Tehnicke/5_semestar/Projekt_R/...           6.0\n",
      "1      /Users/ninaanic/Tehnicke/5_semestar/Projekt_R/...           5.0\n",
      "2      /Users/ninaanic/Tehnicke/5_semestar/Projekt_R/...           3.0\n",
      "3      /Users/ninaanic/Tehnicke/5_semestar/Projekt_R/...           2.0\n",
      "4      /Users/ninaanic/Tehnicke/5_semestar/Projekt_R/...           2.0\n",
      "...                                                  ...           ...\n",
      "36219  /Users/ninaanic/Tehnicke/5_semestar/Projekt_R/...           2.0\n",
      "36220  /Users/ninaanic/Tehnicke/5_semestar/Projekt_R/...           3.0\n",
      "36221  /Users/ninaanic/Tehnicke/5_semestar/Projekt_R/...           2.0\n",
      "36222  /Users/ninaanic/Tehnicke/5_semestar/Projekt_R/...           7.0\n",
      "36223  /Users/ninaanic/Tehnicke/5_semestar/Projekt_R/...           2.0\n",
      "\n",
      "[36224 rows x 2 columns]\n"
     ]
    }
   ],
   "source": [
    "# step 4.2.1: stvaranje 2d liste images u kojoj imamo sliku i dobnu kategoriju u koju osoba sa slike pripada \n",
    "\n",
    "#ages = []\n",
    "#\n",
    "#age_to_label_map = {}\n",
    "#for i in range(0, 111, 10):\n",
    "#    age_to_label_map[str(i) + '-' + str(i+9)] = i//10\n",
    "#\n",
    "#for img in filepaths:\n",
    "#    filename = os.path.split(img)[1]\n",
    "#    if (filename == \".DS_Store\"):\n",
    "#        continue\n",
    "#    \n",
    "#    try:\n",
    "#        broj_god = int(filename.split('.')[0].split('_')[2]) - int(filename.split('_')[1].split('-')[0])\n",
    "#        \n",
    "#        # new: raspodjela slika u kategorije \n",
    "#        if broj_god == 0:\n",
    "#            broj_god = 0\n",
    "#        elif (broj_god % 10) == 0.0:\n",
    "#            broj_god = age_to_label_map[str(int(broj_god)) + '-' + str(int(broj_god+9))]\n",
    "#        elif (broj_god % 10) != 0.0:\n",
    "#            pocetak = broj_god - (broj_god % 10)\n",
    "#            broj_god = age_to_label_map[str(int(pocetak)) + '-' + str(int(pocetak+9))]\n",
    "#        elif broj_god == 110:\n",
    "#            broj_god = 11\n",
    "#            \n",
    "#        for key in age_to_label_map:\n",
    "#            if age_to_label_map[key] == broj_god:\n",
    "#                ages.append(np.array(broj_god))\n",
    "#                break\n",
    "#        \n",
    "#    except Exception as e:\n",
    "#        pass\n",
    "#\n",
    "#ages = pd.Series(np.array(ages, dtype = int) , name = 'Age category')  # One-dimensional ndarray with axis labels ('Age')\n",
    "#images = pd.concat([filepaths, ages], axis = 1).sample(frac = 1.0, random_state = 1).reset_index(drop = True)\n",
    "#\n",
    "## sample(frac = 1.0, random_state = 1) : fraction 100% (uzmi sve slike), random_state = 1 znaci da ih uzimamo random\n",
    "## reset_index(drop = True) poreda ih u ispisu od 0 do 36224 ali random\n",
    "#\n",
    "#print(age_to_label_map)\n",
    "#print(images)"
   ]
  },
  {
   "cell_type": "code",
   "execution_count": 8,
   "id": "7f2c7759",
   "metadata": {},
   "outputs": [
    {
     "name": "stdout",
     "output_type": "stream",
     "text": [
      "                                                Filepath   Age\n",
      "0      /Users/ninaanic/Tehnicke/5_semestar/Projekt_R/...  67.0\n",
      "1      /Users/ninaanic/Tehnicke/5_semestar/Projekt_R/...  51.0\n",
      "2      /Users/ninaanic/Tehnicke/5_semestar/Projekt_R/...  31.0\n",
      "3      /Users/ninaanic/Tehnicke/5_semestar/Projekt_R/...  25.0\n",
      "4      /Users/ninaanic/Tehnicke/5_semestar/Projekt_R/...  21.0\n",
      "...                                                  ...   ...\n",
      "36219  /Users/ninaanic/Tehnicke/5_semestar/Projekt_R/...  26.0\n",
      "36220  /Users/ninaanic/Tehnicke/5_semestar/Projekt_R/...  33.0\n",
      "36221  /Users/ninaanic/Tehnicke/5_semestar/Projekt_R/...  24.0\n",
      "36222  /Users/ninaanic/Tehnicke/5_semestar/Projekt_R/...  73.0\n",
      "36223  /Users/ninaanic/Tehnicke/5_semestar/Projekt_R/...  25.0\n",
      "\n",
      "[36224 rows x 2 columns]\n"
     ]
    }
   ],
   "source": [
    "# step 4.2.2: stvaranje 2d liste images u kojoj imamo sliku i broj godina te osobe \n",
    "\n",
    "ages = []\n",
    "\n",
    "for img in filepaths:\n",
    "    #print(img)\n",
    "    filename = os.path.split(img)[1]\n",
    "    if (filename == \".DS_Store\"):\n",
    "        continue\n",
    "    \n",
    "    try:\n",
    "        broj_god = int(filename.split('.')[0].split('_')[2]) - int(filename.split('_')[1].split('-')[0])\n",
    "        ages.append(np.array(broj_god))\n",
    "        \n",
    "    except Exception as e:\n",
    "        pass\n",
    "\n",
    "ages = pd.Series(np.array(ages, dtype = np.int64) , name = 'Age')  # One-dimensional ndarray with axis labels ('Age')\n",
    "images = pd.concat([filepaths, ages], axis = 1).sample(frac = 1.0, random_state = 1).reset_index(drop = True)\n",
    "\n",
    "# sample(frac = 1.0, random_state = 1) : fraction 100% (uzmi sve slike), random_state = 1 znaci da ih uzimamo random\n",
    "# reset_index(drop = True) poreda ih u ispisu od 0 do 41856 ali random\n",
    "\n",
    "print(images)"
   ]
  },
  {
   "cell_type": "code",
   "execution_count": null,
   "id": "e8764cf1",
   "metadata": {},
   "outputs": [],
   "source": [
    "# step 4.3: napravimo 2 liste, 1 za trening 2. za test i u njih na random stavljamo slike\n",
    "\n",
    "\n",
    "X = images['Filepath']\n",
    "y = images['Age']\n",
    "\n",
    "y = y.fillna(0) # remove Nan\n",
    "\n",
    "X_train, X_test, y_train, y_test = train_test_split(X, y, test_size=0.3, random_state=42, shuffle = True)\n",
    "\n",
    "train_images = []\n",
    "test_images = []\n",
    "\n",
    "for row in X_train:\n",
    "    image = Image.open(row)\n",
    "    image = image.resize((224, 224))   # Resize the image\n",
    "    data = np.asarray(image)\n",
    "    train_images.append(data)\n",
    "    \n",
    "for row in X_test:\n",
    "    image = Image.open(row)\n",
    "    image = image.resize((224, 224))  # Resize the image\n",
    "    data = np.asarray(image)\n",
    "    test_images.append(data)\n",
    "    \n",
    "train_images = np.asarray(train_images)\n",
    "test_images = np.asarray(test_images)\n",
    "\n",
    "print('Train images shape {}'.format(train_images.shape))\n",
    "print('Test images shape {}'.format(test_images.shape))"
   ]
  },
  {
   "cell_type": "code",
   "execution_count": 27,
   "id": "8a25ed77",
   "metadata": {},
   "outputs": [],
   "source": []
  },
  {
   "cell_type": "code",
   "execution_count": 51,
   "id": "b947138a",
   "metadata": {},
   "outputs": [],
   "source": [
    "# step 4.4: pretvaramo train i test setove u nove setove nad kojima mozemo \n",
    "#  (zato sto koristimo tf.keras.preprocessing.image.ImageDataGenerator) \n",
    "# raditi tranformacije dok su slike u modelu \n",
    "\n"
   ]
  },
  {
   "cell_type": "code",
   "execution_count": 52,
   "id": "5059db94",
   "metadata": {},
   "outputs": [],
   "source": [
    "# step 4.5: definiramo train test i val slike  \n",
    "#  (pomocu flow_from_dataframe), uz neke parametre, \n",
    "# i na taj nacin model lako zna koje su mu slike train, koje test, koje val \n",
    "#  (pomcu imena klasa, npr train_images)\n"
   ]
  },
  {
   "cell_type": "code",
   "execution_count": 4,
   "id": "34dbf93b",
   "metadata": {},
   "outputs": [
    {
     "name": "stderr",
     "output_type": "stream",
     "text": [
      "2022-05-24 14:31:54.624788: I tensorflow/core/platform/cpu_feature_guard.cc:151] This TensorFlow binary is optimized with oneAPI Deep Neural Network Library (oneDNN) to use the following CPU instructions in performance-critical operations:  AVX2 FMA\n",
      "To enable them in other operations, rebuild TensorFlow with the appropriate compiler flags.\n"
     ]
    },
    {
     "ename": "NameError",
     "evalue": "name 'inputs' is not defined",
     "output_type": "error",
     "traceback": [
      "\u001b[0;31m---------------------------------------------------------------------------\u001b[0m",
      "\u001b[0;31mNameError\u001b[0m                                 Traceback (most recent call last)",
      "\u001b[0;32m/var/folders/xs/x1qjkybs4711f5nr19v2bzsh0000gn/T/ipykernel_48647/3689228476.py\u001b[0m in \u001b[0;36m<module>\u001b[0;34m\u001b[0m\n\u001b[1;32m      2\u001b[0m \u001b[0;31m#  model opisan u: ...\u001b[0m\u001b[0;34m\u001b[0m\u001b[0;34m\u001b[0m\u001b[0;34m\u001b[0m\u001b[0m\n\u001b[1;32m      3\u001b[0m \u001b[0;34m\u001b[0m\u001b[0m\n\u001b[0;32m----> 4\u001b[0;31m \u001b[0minputs\u001b[0m \u001b[0;34m=\u001b[0m \u001b[0mSequential\u001b[0m\u001b[0;34m(\u001b[0m\u001b[0;34m)\u001b[0m\u001b[0;34m(\u001b[0m\u001b[0minputs\u001b[0m\u001b[0;34m)\u001b[0m\u001b[0;34m\u001b[0m\u001b[0;34m\u001b[0m\u001b[0m\n\u001b[0m\u001b[1;32m      5\u001b[0m \u001b[0;34m\u001b[0m\u001b[0m\n\u001b[1;32m      6\u001b[0m \u001b[0mx\u001b[0m \u001b[0;34m=\u001b[0m \u001b[0mConv2D\u001b[0m\u001b[0;34m(\u001b[0m\u001b[0minput_shape\u001b[0m\u001b[0;34m=\u001b[0m\u001b[0;34m(\u001b[0m\u001b[0;36m224\u001b[0m\u001b[0;34m,\u001b[0m \u001b[0;36m224\u001b[0m\u001b[0;34m,\u001b[0m \u001b[0;36m3\u001b[0m\u001b[0;34m)\u001b[0m\u001b[0;34m,\u001b[0m \u001b[0mfilters\u001b[0m \u001b[0;34m=\u001b[0m \u001b[0;36m96\u001b[0m\u001b[0;34m,\u001b[0m \u001b[0mkernel_size\u001b[0m \u001b[0;34m=\u001b[0m \u001b[0;34m(\u001b[0m\u001b[0;36m7\u001b[0m\u001b[0;34m,\u001b[0m \u001b[0;36m7\u001b[0m\u001b[0;34m)\u001b[0m\u001b[0;34m,\u001b[0m \u001b[0mstrides\u001b[0m \u001b[0;34m=\u001b[0m \u001b[0;36m4\u001b[0m\u001b[0;34m,\u001b[0m \u001b[0mactivation\u001b[0m\u001b[0;34m=\u001b[0m\u001b[0;34m'relu'\u001b[0m\u001b[0;34m,\u001b[0m \u001b[0mpadding\u001b[0m\u001b[0;34m=\u001b[0m\u001b[0;34m'valid'\u001b[0m\u001b[0;34m)\u001b[0m\u001b[0;34m(\u001b[0m\u001b[0minputs\u001b[0m\u001b[0;34m)\u001b[0m\u001b[0;34m\u001b[0m\u001b[0;34m\u001b[0m\u001b[0m\n",
      "\u001b[0;31mNameError\u001b[0m: name 'inputs' is not defined"
     ]
    }
   ],
   "source": [
    "# step 4.6: odabir modela i treniranje\n",
    "#  model opisan u: ...\n",
    "\n",
    "inputs = Sequential()(inputs)\n",
    "\n",
    "x = Conv2D(input_shape=(224, 224, 3), filters = 96, kernel_size = (7, 7), strides = 4, activation='relu', padding='valid')(inputs)\n",
    "x = MaxPool2D((2, 2), strides=(2, 2))(x)\n",
    "x = LayerNormalization()(x)\n",
    "x = Conv2D(filters = 256, kernel_size = (5, 5), strides = 1, activation='relu', padding='same')(x)\n",
    "x = MaxPool2D((2, 2), strides=(2, 2))(x)\n",
    "x = LayerNormalization()(x)\n",
    "x = Conv2D(filters = 256, kernel_size = (3, 3), strides = 1, activation='relu', padding='same')(x)\n",
    "x = MaxPool2D((2, 2), strides=(2, 2))(x)\n",
    "x = LayerNormalization()(x)\n",
    "\n",
    "x = Flatten()(x)\n",
    "x = Dense(units = 512, activation='relu')(x)\n",
    "x = Dropout(rate = 0.25)(x)\n",
    "x = Dense(units = 512, activation='relu')(x)\n",
    "x = Dropout(rate = 0.25)(x)\n",
    "\n",
    "outputs = Dense(units = 12, activation='softmax')(x)\n",
    "\n",
    "model = tf.keras.Model(inputs=inputs, outputs=outputs)\n",
    "print(model.summary())\n",
    "\n",
    "callback = tf.keras.callbacks.EarlyStopping(monitor='loss', patience=3) # Callback for early stopping\n",
    "model.compile(optimizer='adam', loss=tf.keras.losses.SparseCategoricalCrossentropy(from_logits=False), metrics=['accuracy'])\n",
    "history = model.fit(train_images, y_train, batch_size=32, epochs=50, validation_data=(test_images, y_test), callbacks=[callback])\n",
    "\n",
    "print()\n",
    "print(\"   done   \")\n"
   ]
  },
  {
   "cell_type": "code",
   "execution_count": 87,
   "id": "e503b30a",
   "metadata": {},
   "outputs": [
    {
     "name": "stdout",
     "output_type": "stream",
     "text": [
      "340/340 - 39s - loss: 1.6270 - accuracy: 0.4217 - 39s/epoch - 113ms/step\n",
      "Test acc: 0.4216967225074768\n",
      "Test loss: 1.6270264387130737\n"
     ]
    }
   ],
   "source": [
    "# step 4.7: resultati (usporedujemo predictanu i stvarnu godinu osobe sa slike)\n",
    "\n",
    "test_loss, test_acc = model.evaluate(test_images, y_test, verbose=2)\n",
    "print('Test acc:', test_acc)\n",
    "print('Test loss:', test_loss) #Unlike accuracy, a loss is not a percentage. It is a sum of the errors made for each example in training or validation sets."
   ]
  },
  {
   "cell_type": "code",
   "execution_count": null,
   "id": "00f8a80b",
   "metadata": {},
   "outputs": [],
   "source": []
  },
  {
   "cell_type": "code",
   "execution_count": null,
   "id": "7fe01cd2",
   "metadata": {},
   "outputs": [],
   "source": []
  }
 ],
 "metadata": {
  "kernelspec": {
   "display_name": "Python 3 (ipykernel)",
   "language": "python",
   "name": "python3"
  },
  "language_info": {
   "codemirror_mode": {
    "name": "ipython",
    "version": 3
   },
   "file_extension": ".py",
   "mimetype": "text/x-python",
   "name": "python",
   "nbconvert_exporter": "python",
   "pygments_lexer": "ipython3",
   "version": "3.9.0"
  }
 },
 "nbformat": 4,
 "nbformat_minor": 5
}

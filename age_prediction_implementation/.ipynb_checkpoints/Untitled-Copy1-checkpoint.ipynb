{
 "cells": [
  {
   "cell_type": "code",
   "execution_count": 1,
   "id": "256c021e",
   "metadata": {},
   "outputs": [],
   "source": [
    "import numpy as np              # za operacije nad arrayevima\n",
    "import matplotlib.pyplot as plt # za prikaz slika\n",
    "from matplotlib.patches import Rectangle\n",
    "import os                       # za iteriranje po direktorijima\n",
    "import cv2                      # za operacije nad slikama \n",
    "from PIL import Image\n",
    "from collections import Counter\n",
    "#!pip install mtcnn\n",
    "from mtcnn import MTCNN\n",
    "import time\n",
    "import shutil\n",
    "import pandas as pd\n",
    "from pathlib import Path\n",
    "from sklearn.model_selection import train_test_split\n",
    "import tensorflow as tf\n",
    "from sklearn.metrics import r2_score\n",
    "\n",
    "from keras.models import Model\n",
    "from keras.layers import Flatten\n",
    "from keras.layers import Dense\n",
    "from keras.layers import Input\n",
    "from keras.layers import Conv2D\n",
    "from keras.layers import SeparableConv2D\n",
    "from keras.layers import MaxPool2D\n",
    "from keras.layers import GlobalAveragePooling2D\n",
    "from keras.layers import LayerNormalization\n",
    "from keras.layers import Dropout\n",
    "from keras.models import Sequential                    "
   ]
  },
  {
   "cell_type": "code",
   "execution_count": 32,
   "id": "6956018f",
   "metadata": {},
   "outputs": [],
   "source": [
    "# ucitaj dir \n",
    "wikiDir = Path(\"/Users/ninaanic/Tehnicke/6_semestar/ZavRad/main/datasets/wiki_crop\")\n",
    "filepaths_wiki = pd.Series(list(wikiDir.glob(r'**/*.jpg')), name = 'Filepath').astype(str)\n",
    "\n",
    "# stvori matricu gdje je jedan stupac naziv slike a 2. broj godina u float-u\n",
    "ages = []\n",
    "for img in filepaths_wiki:\n",
    "    filename = os.path.split(img)[1]\n",
    "    if (filename == \".DS_Store\"):\n",
    "        continue\n",
    "    \n",
    "    try:\n",
    "        broj_god = int(filename.split('.')[0].split('_')[2]) - int(filename.split('_')[1].split('-')[0])\n",
    "        ages.append(np.array(broj_god))\n",
    "        \n",
    "    except Exception as e:\n",
    "        pass\n",
    "\n",
    "ages = pd.Series(np.array(ages, dtype = np.float64) , name = 'Age')  # One-dimensional ndarray with axis labels ('Age')\n",
    "images_wiki = pd.concat([filepaths_wiki, ages], axis = 1).sample(frac = 1.0, random_state = 1).reset_index(drop = True)\n",
    "# print(images_wiki)\n",
    "\n",
    "# sample(frac = 1.0, random_state = 1) : fraction 100% (uzmi sve slike), random_state = 1 znaci da ih uzimamo random\n",
    "# reset_index(drop = True) poreda ih u ispisu od 0 do 41856 ali random"
   ]
  },
  {
   "cell_type": "code",
   "execution_count": 33,
   "id": "a6387159",
   "metadata": {},
   "outputs": [],
   "source": [
    "# ucitaj dir \n",
    "imdbDir = Path(\"/Users/ninaanic/Tehnicke/6_semestar/ZavRad/main/datasets/imdb_crop\")\n",
    "filepaths_imdb = pd.Series(list(imdbDir.glob(r'**/*.jpg')), name = 'Filepath').astype(str)\n",
    "\n",
    "# stvori matricu gdje je jedan stupac naziv slike a 2. broj godina u float-u\n",
    "ages = []\n",
    "for img in filepaths_imdb:\n",
    "    filename = os.path.split(img)[1]\n",
    "    if (filename == \".DS_Store\"):\n",
    "        continue    \n",
    "    try:\n",
    "        broj_god = int(filename.split('.')[0].split('_')[3]) - int(filename.split('_')[2].split('-')[0])\n",
    "        ages.append(np.array(broj_god))\n",
    "        \n",
    "    except Exception as e:\n",
    "        pass\n",
    "\n",
    "ages = pd.Series(np.array(ages, dtype = np.float64) , name = 'Age')  # One-dimensional ndarray with axis labels ('Age')\n",
    "images_imdb = pd.concat([filepaths_imdb, ages], axis = 1).sample(frac = 1.0, random_state = 1).reset_index(drop = True)\n",
    "# print(images_imdb)\n",
    "\n",
    "# sample(frac = 1.0, random_state = 1) : fraction 100% (uzmi sve slike), random_state = 1 znaci da ih uzimamo random\n",
    "# reset_index(drop = True) poreda ih u ispisu od 0 do 41856 ali random"
   ]
  },
  {
   "cell_type": "code",
   "execution_count": 34,
   "id": "09685884",
   "metadata": {},
   "outputs": [
    {
     "name": "stdout",
     "output_type": "stream",
     "text": [
      "                                                 Filepath   Age\n",
      "0       /Users/ninaanic/Tehnicke/6_semestar/ZavRad/mai...  23.0\n",
      "1       /Users/ninaanic/Tehnicke/6_semestar/ZavRad/mai...  35.0\n",
      "2       /Users/ninaanic/Tehnicke/6_semestar/ZavRad/mai...  34.0\n",
      "3       /Users/ninaanic/Tehnicke/6_semestar/ZavRad/mai...  31.0\n",
      "4       /Users/ninaanic/Tehnicke/6_semestar/ZavRad/mai...  50.0\n",
      "...                                                   ...   ...\n",
      "523046  /Users/ninaanic/Tehnicke/6_semestar/ZavRad/mai...  25.0\n",
      "523047  /Users/ninaanic/Tehnicke/6_semestar/ZavRad/mai...  27.0\n",
      "523048  /Users/ninaanic/Tehnicke/6_semestar/ZavRad/mai...  28.0\n",
      "523049  /Users/ninaanic/Tehnicke/6_semestar/ZavRad/mai...  61.0\n",
      "523050  /Users/ninaanic/Tehnicke/6_semestar/ZavRad/mai...  32.0\n",
      "\n",
      "[523051 rows x 2 columns]\n"
     ]
    }
   ],
   "source": [
    "images = pd.DataFrame(images_imdb.append(images_wiki, ignore_index = True),columns=['Filepath', 'Age'])\n",
    "print(images)"
   ]
  },
  {
   "cell_type": "code",
   "execution_count": null,
   "id": "61e30235",
   "metadata": {},
   "outputs": [],
   "source": []
  }
 ],
 "metadata": {
  "kernelspec": {
   "display_name": "Python 3 (ipykernel)",
   "language": "python",
   "name": "python3"
  },
  "language_info": {
   "codemirror_mode": {
    "name": "ipython",
    "version": 3
   },
   "file_extension": ".py",
   "mimetype": "text/x-python",
   "name": "python",
   "nbconvert_exporter": "python",
   "pygments_lexer": "ipython3",
   "version": "3.9.0"
  }
 },
 "nbformat": 4,
 "nbformat_minor": 5
}
